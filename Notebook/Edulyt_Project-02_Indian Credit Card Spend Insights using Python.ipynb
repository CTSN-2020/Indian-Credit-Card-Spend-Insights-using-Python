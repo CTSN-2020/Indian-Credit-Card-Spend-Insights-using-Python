{
 "cells": [
  {
   "cell_type": "markdown",
   "id": "f44cc1e3-e385-4dc6-bcb6-54434b2b7fbc",
   "metadata": {},
   "source": [
    "# Import Important Libraries"
   ]
  },
  {
   "cell_type": "code",
   "execution_count": 1,
   "id": "acc61cf3-9c02-4853-9ed5-2d86150f77ce",
   "metadata": {},
   "outputs": [],
   "source": [
    "import numpy as np\n",
    "import pandas as pd\n",
    "import matplotlib.pyplot as plt\n",
    "import seaborn as sns"
   ]
  },
  {
   "cell_type": "code",
   "execution_count": 2,
   "id": "abcf829d-92ec-4ac9-9b41-4337d2bc70ed",
   "metadata": {},
   "outputs": [
    {
     "name": "stdout",
     "output_type": "stream",
     "text": [
      "<class 'pandas.core.frame.DataFrame'>\n",
      "RangeIndex: 26052 entries, 0 to 26051\n",
      "Data columns (total 7 columns):\n",
      " #   Column     Non-Null Count  Dtype \n",
      "---  ------     --------------  ----- \n",
      " 0   index      26052 non-null  int64 \n",
      " 1   City       26052 non-null  object\n",
      " 2   Date       26052 non-null  object\n",
      " 3   Card Type  26052 non-null  object\n",
      " 4   Exp Type   26052 non-null  object\n",
      " 5   Gender     26052 non-null  object\n",
      " 6   Amount     26052 non-null  int64 \n",
      "dtypes: int64(2), object(5)\n",
      "memory usage: 1.4+ MB\n"
     ]
    },
    {
     "data": {
      "text/plain": [
       "(None,)"
      ]
     },
     "execution_count": 2,
     "metadata": {},
     "output_type": "execute_result"
    }
   ],
   "source": [
    "file_path = \"Credit card transactions - Project - 2.csv\"\n",
    "df = pd.read_csv(file_path)\n",
    "df.info(), "
   ]
  },
  {
   "cell_type": "code",
   "execution_count": 3,
   "id": "6c73606f-5871-47dd-8d72-5eb455e8000d",
   "metadata": {},
   "outputs": [
    {
     "data": {
      "text/html": [
       "<div>\n",
       "<style scoped>\n",
       "    .dataframe tbody tr th:only-of-type {\n",
       "        vertical-align: middle;\n",
       "    }\n",
       "\n",
       "    .dataframe tbody tr th {\n",
       "        vertical-align: top;\n",
       "    }\n",
       "\n",
       "    .dataframe thead th {\n",
       "        text-align: right;\n",
       "    }\n",
       "</style>\n",
       "<table border=\"1\" class=\"dataframe\">\n",
       "  <thead>\n",
       "    <tr style=\"text-align: right;\">\n",
       "      <th></th>\n",
       "      <th>index</th>\n",
       "      <th>City</th>\n",
       "      <th>Date</th>\n",
       "      <th>Card Type</th>\n",
       "      <th>Exp Type</th>\n",
       "      <th>Gender</th>\n",
       "      <th>Amount</th>\n",
       "    </tr>\n",
       "  </thead>\n",
       "  <tbody>\n",
       "    <tr>\n",
       "      <th>0</th>\n",
       "      <td>0</td>\n",
       "      <td>Delhi, India</td>\n",
       "      <td>29-Oct-14</td>\n",
       "      <td>Gold</td>\n",
       "      <td>Bills</td>\n",
       "      <td>F</td>\n",
       "      <td>82475</td>\n",
       "    </tr>\n",
       "    <tr>\n",
       "      <th>1</th>\n",
       "      <td>1</td>\n",
       "      <td>Greater Mumbai, India</td>\n",
       "      <td>22-Aug-14</td>\n",
       "      <td>Platinum</td>\n",
       "      <td>Bills</td>\n",
       "      <td>F</td>\n",
       "      <td>32555</td>\n",
       "    </tr>\n",
       "    <tr>\n",
       "      <th>2</th>\n",
       "      <td>2</td>\n",
       "      <td>Bengaluru, India</td>\n",
       "      <td>27-Aug-14</td>\n",
       "      <td>Silver</td>\n",
       "      <td>Bills</td>\n",
       "      <td>F</td>\n",
       "      <td>101738</td>\n",
       "    </tr>\n",
       "    <tr>\n",
       "      <th>3</th>\n",
       "      <td>3</td>\n",
       "      <td>Greater Mumbai, India</td>\n",
       "      <td>12-Apr-14</td>\n",
       "      <td>Signature</td>\n",
       "      <td>Bills</td>\n",
       "      <td>F</td>\n",
       "      <td>123424</td>\n",
       "    </tr>\n",
       "    <tr>\n",
       "      <th>4</th>\n",
       "      <td>4</td>\n",
       "      <td>Bengaluru, India</td>\n",
       "      <td>05-May-15</td>\n",
       "      <td>Gold</td>\n",
       "      <td>Bills</td>\n",
       "      <td>F</td>\n",
       "      <td>171574</td>\n",
       "    </tr>\n",
       "  </tbody>\n",
       "</table>\n",
       "</div>"
      ],
      "text/plain": [
       "   index                   City       Date  Card Type Exp Type Gender  Amount\n",
       "0      0           Delhi, India  29-Oct-14       Gold    Bills      F   82475\n",
       "1      1  Greater Mumbai, India  22-Aug-14   Platinum    Bills      F   32555\n",
       "2      2       Bengaluru, India  27-Aug-14     Silver    Bills      F  101738\n",
       "3      3  Greater Mumbai, India  12-Apr-14  Signature    Bills      F  123424\n",
       "4      4       Bengaluru, India  05-May-15       Gold    Bills      F  171574"
      ]
     },
     "execution_count": 3,
     "metadata": {},
     "output_type": "execute_result"
    }
   ],
   "source": [
    " df.head()"
   ]
  },
  {
   "cell_type": "code",
   "execution_count": 4,
   "id": "3710c02e-a37c-443d-9016-888a230a4535",
   "metadata": {},
   "outputs": [],
   "source": [
    "df.drop(columns=['index'], inplace=True)\n",
    "df.columns = df.columns.str.strip()\n",
    "df['Date'] = pd.to_datetime(df['Date'], format='%d-%b-%y')\n",
    "df['Month'] = df['Date'].dt.to_period('M').astype(str)\n",
    "df['YearMonth'] = df['Date'].dt.to_period('M').astype(str)\n",
    "df['Weekday'] = df['Date'].dt.dayofweek"
   ]
  },
  {
   "cell_type": "markdown",
   "id": "cd6a2bd1-21f0-442e-a2dd-62e00c72aeef",
   "metadata": {},
   "source": [
    "# Q1: Top 5 Cities with Highest Credit Card Spend & Their % Contribution"
   ]
  },
  {
   "cell_type": "code",
   "execution_count": 5,
   "id": "3abce357-c203-4089-b586-c167d954025e",
   "metadata": {},
   "outputs": [
    {
     "data": {
      "text/html": [
       "<div>\n",
       "<style scoped>\n",
       "    .dataframe tbody tr th:only-of-type {\n",
       "        vertical-align: middle;\n",
       "    }\n",
       "\n",
       "    .dataframe tbody tr th {\n",
       "        vertical-align: top;\n",
       "    }\n",
       "\n",
       "    .dataframe thead th {\n",
       "        text-align: right;\n",
       "    }\n",
       "</style>\n",
       "<table border=\"1\" class=\"dataframe\">\n",
       "  <thead>\n",
       "    <tr style=\"text-align: right;\">\n",
       "      <th></th>\n",
       "      <th>City</th>\n",
       "      <th>Total Spend</th>\n",
       "      <th>% of Total Spend</th>\n",
       "    </tr>\n",
       "  </thead>\n",
       "  <tbody>\n",
       "    <tr>\n",
       "      <th>0</th>\n",
       "      <td>Greater Mumbai, India</td>\n",
       "      <td>576751476</td>\n",
       "      <td>14.15</td>\n",
       "    </tr>\n",
       "    <tr>\n",
       "      <th>1</th>\n",
       "      <td>Bengaluru, India</td>\n",
       "      <td>572326739</td>\n",
       "      <td>14.05</td>\n",
       "    </tr>\n",
       "    <tr>\n",
       "      <th>2</th>\n",
       "      <td>Ahmedabad, India</td>\n",
       "      <td>567794310</td>\n",
       "      <td>13.93</td>\n",
       "    </tr>\n",
       "    <tr>\n",
       "      <th>3</th>\n",
       "      <td>Delhi, India</td>\n",
       "      <td>556929212</td>\n",
       "      <td>13.67</td>\n",
       "    </tr>\n",
       "    <tr>\n",
       "      <th>4</th>\n",
       "      <td>Kolkata, India</td>\n",
       "      <td>115466943</td>\n",
       "      <td>2.83</td>\n",
       "    </tr>\n",
       "  </tbody>\n",
       "</table>\n",
       "</div>"
      ],
      "text/plain": [
       "                    City  Total Spend  % of Total Spend\n",
       "0  Greater Mumbai, India    576751476             14.15\n",
       "1       Bengaluru, India    572326739             14.05\n",
       "2       Ahmedabad, India    567794310             13.93\n",
       "3           Delhi, India    556929212             13.67\n",
       "4         Kolkata, India    115466943              2.83"
      ]
     },
     "execution_count": 5,
     "metadata": {},
     "output_type": "execute_result"
    }
   ],
   "source": [
    "city_spend = df.groupby('City')['Amount'].sum().sort_values(ascending=False).head(5)\n",
    "total_spend = df['Amount'].sum()\n",
    "city_percent = (city_spend / total_spend * 100).round(2)\n",
    "top5_cities = pd.DataFrame({\n",
    "    'Total Spend': city_spend,\n",
    "    '% of Total Spend': city_percent\n",
    "})\n",
    "\n",
    "top5_cities.reset_index(inplace=True)\n",
    "top5_cities"
   ]
  },
  {
   "cell_type": "code",
   "execution_count": 6,
   "id": "668fdf0f-4e53-4254-9b5d-c06e81281f39",
   "metadata": {},
   "outputs": [
    {
     "name": "stderr",
     "output_type": "stream",
     "text": [
      "C:\\Users\\srj15\\AppData\\Local\\Temp\\ipykernel_10508\\2883084677.py:2: FutureWarning: \n",
      "\n",
      "Passing `palette` without assigning `hue` is deprecated and will be removed in v0.14.0. Assign the `y` variable to `hue` and set `legend=False` for the same effect.\n",
      "\n",
      "  sns.barplot(x='Total Spend', y='City', data=top5_cities, palette='mako')\n"
     ]
    },
    {
     "data": {
      "image/png": "[encoded data removed]",
      "text/plain": [
       "<Figure size 1000x600 with 1 Axes>"
      ]
     },
     "metadata": {},
     "output_type": "display_data"
    }
   ],
   "source": [
    "plt.figure(figsize=(10,6))\n",
    "sns.barplot(x='Total Spend', y='City', data=top5_cities, palette='mako')\n",
    "plt.title('Top 5 Cities by Credit Card Spend')\n",
    "plt.xlabel('Spend Amount')\n",
    "plt.ylabel('City')\n",
    "plt.tight_layout()\n",
    "plt.show()"
   ]
  },
  {
   "cell_type": "markdown",
   "id": "ac8e6677-a65d-4e88-9d11-a0dd49a46233",
   "metadata": {},
   "source": [
    "# Q2: Month with Highest Spends for Each Card Type"
   ]
  },
  {
   "cell_type": "code",
   "execution_count": 7,
   "id": "20966613-1c5b-4069-a9fc-884741f8ee5a",
   "metadata": {},
   "outputs": [],
   "source": [
    "card_month_spend = df.groupby(['Card Type', 'Month'])['Amount'].sum().reset_index()\n",
    "q2_result = card_month_spend.sort_values(['Card Type', 'Amount'], ascending=[True, False]).drop_duplicates('Card Type')"
   ]
  },
  {
   "cell_type": "code",
   "execution_count": 8,
   "id": "db261d4d-6c13-442b-93a9-b76588ba248f",
   "metadata": {},
   "outputs": [
    {
     "data": {
      "text/html": [
       "<div>\n",
       "<style scoped>\n",
       "    .dataframe tbody tr th:only-of-type {\n",
       "        vertical-align: middle;\n",
       "    }\n",
       "\n",
       "    .dataframe tbody tr th {\n",
       "        vertical-align: top;\n",
       "    }\n",
       "\n",
       "    .dataframe thead th {\n",
       "        text-align: right;\n",
       "    }\n",
       "</style>\n",
       "<table border=\"1\" class=\"dataframe\">\n",
       "  <thead>\n",
       "    <tr style=\"text-align: right;\">\n",
       "      <th></th>\n",
       "      <th>Card Type</th>\n",
       "      <th>Month</th>\n",
       "      <th>Amount</th>\n",
       "    </tr>\n",
       "  </thead>\n",
       "  <tbody>\n",
       "    <tr>\n",
       "      <th>15</th>\n",
       "      <td>Gold</td>\n",
       "      <td>2015-01</td>\n",
       "      <td>55455064</td>\n",
       "    </tr>\n",
       "    <tr>\n",
       "      <th>30</th>\n",
       "      <td>Platinum</td>\n",
       "      <td>2014-08</td>\n",
       "      <td>57936507</td>\n",
       "    </tr>\n",
       "    <tr>\n",
       "      <th>42</th>\n",
       "      <td>Signature</td>\n",
       "      <td>2013-12</td>\n",
       "      <td>58799522</td>\n",
       "    </tr>\n",
       "    <tr>\n",
       "      <th>77</th>\n",
       "      <td>Silver</td>\n",
       "      <td>2015-03</td>\n",
       "      <td>59723549</td>\n",
       "    </tr>\n",
       "  </tbody>\n",
       "</table>\n",
       "</div>"
      ],
      "text/plain": [
       "    Card Type    Month    Amount\n",
       "15       Gold  2015-01  55455064\n",
       "30   Platinum  2014-08  57936507\n",
       "42  Signature  2013-12  58799522\n",
       "77     Silver  2015-03  59723549"
      ]
     },
     "execution_count": 8,
     "metadata": {},
     "output_type": "execute_result"
    }
   ],
   "source": [
    "q2_result"
   ]
  },
  {
   "cell_type": "code",
   "execution_count": 9,
   "id": "228ae3d7-15da-4649-b967-969365c6ec87",
   "metadata": {},
   "outputs": [
    {
     "data": {
      "image/png": "[encoded data removed]",
      "text/plain": [
       "<Figure size 1000x600 with 1 Axes>"
      ]
     },
     "metadata": {},
     "output_type": "display_data"
    }
   ],
   "source": [
    "plt.figure(figsize=(10,6))\n",
    "sns.barplot(x='Card Type', y='Amount', hue='Month', data=q2_result, palette='muted')\n",
    "plt.title('Highest Spend Month by Card Type')\n",
    "plt.ylabel('Amount (₹)')\n",
    "plt.tight_layout()\n",
    "plt.show()"
   ]
  },
  {
   "cell_type": "markdown",
   "id": "41ff8e75-3259-4c37-813d-ab8a2ba9f691",
   "metadata": {},
   "source": [
    "# Q3: First Month Where Each Card Type Crossed ₹10,00,000"
   ]
  },
  {
   "cell_type": "code",
   "execution_count": 10,
   "id": "7cb5618e-c35b-4f74-9b68-ee83d198401f",
   "metadata": {},
   "outputs": [],
   "source": [
    "card_month_cumsum = card_month_spend.copy()\n",
    "card_month_cumsum['Cumulative'] = card_month_cumsum.groupby('Card Type')['Amount'].cumsum()"
   ]
  },
  {
   "cell_type": "code",
   "execution_count": 11,
   "id": "ddc92b12-9926-4bc5-959a-2f9aabe4874b",
   "metadata": {},
   "outputs": [
    {
     "data": {
      "text/html": [
       "<div>\n",
       "<style scoped>\n",
       "    .dataframe tbody tr th:only-of-type {\n",
       "        vertical-align: middle;\n",
       "    }\n",
       "\n",
       "    .dataframe tbody tr th {\n",
       "        vertical-align: top;\n",
       "    }\n",
       "\n",
       "    .dataframe thead th {\n",
       "        text-align: right;\n",
       "    }\n",
       "</style>\n",
       "<table border=\"1\" class=\"dataframe\">\n",
       "  <thead>\n",
       "    <tr style=\"text-align: right;\">\n",
       "      <th></th>\n",
       "      <th>Card Type</th>\n",
       "      <th>Month</th>\n",
       "      <th>Cumulative</th>\n",
       "    </tr>\n",
       "  </thead>\n",
       "  <tbody>\n",
       "    <tr>\n",
       "      <th>0</th>\n",
       "      <td>Gold</td>\n",
       "      <td>2013-10</td>\n",
       "      <td>48207082</td>\n",
       "    </tr>\n",
       "    <tr>\n",
       "      <th>20</th>\n",
       "      <td>Platinum</td>\n",
       "      <td>2013-10</td>\n",
       "      <td>50634540</td>\n",
       "    </tr>\n",
       "    <tr>\n",
       "      <th>40</th>\n",
       "      <td>Signature</td>\n",
       "      <td>2013-10</td>\n",
       "      <td>57196872</td>\n",
       "    </tr>\n",
       "    <tr>\n",
       "      <th>60</th>\n",
       "      <td>Silver</td>\n",
       "      <td>2013-10</td>\n",
       "      <td>51321598</td>\n",
       "    </tr>\n",
       "  </tbody>\n",
       "</table>\n",
       "</div>"
      ],
      "text/plain": [
       "    Card Type    Month  Cumulative\n",
       "0        Gold  2013-10    48207082\n",
       "20   Platinum  2013-10    50634540\n",
       "40  Signature  2013-10    57196872\n",
       "60     Silver  2013-10    51321598"
      ]
     },
     "execution_count": 11,
     "metadata": {},
     "output_type": "execute_result"
    }
   ],
   "source": [
    "q3_result = card_month_cumsum[card_month_cumsum['Cumulative'] >= 1_000_000].drop_duplicates('Card Type')\n",
    "q3_result[['Card Type', 'Month', 'Cumulative']]"
   ]
  },
  {
   "cell_type": "code",
   "execution_count": 12,
   "id": "2f253015-ad23-4043-ae48-3b6d887e95e4",
   "metadata": {},
   "outputs": [
    {
     "name": "stderr",
     "output_type": "stream",
     "text": [
      "C:\\Users\\srj15\\AppData\\Local\\Temp\\ipykernel_10508\\449131691.py:2: FutureWarning: \n",
      "\n",
      "Passing `palette` without assigning `hue` is deprecated and will be removed in v0.14.0. Assign the `x` variable to `hue` and set `legend=False` for the same effect.\n",
      "\n",
      "  sns.barplot(x='Card Type', y='Cumulative', data=q3_result, palette='pastel')\n"
     ]
    },
    {
     "data": {
      "image/png": "[encoded data removed]",
      "text/plain": [
       "<Figure size 1000x600 with 1 Axes>"
      ]
     },
     "metadata": {},
     "output_type": "display_data"
    }
   ],
   "source": [
    "plt.figure(figsize=(10,6))\n",
    "sns.barplot(x='Card Type', y='Cumulative', data=q3_result, palette='pastel')\n",
    "plt.title('First Month Crossing ₹10L per Card Type')\n",
    "plt.ylabel('Cumulative Spend (₹)')\n",
    "plt.tight_layout()\n",
    "plt.show()"
   ]
  },
  {
   "cell_type": "markdown",
   "id": "f45b9c6b-5bbf-421b-a021-577d429e0de0",
   "metadata": {},
   "source": [
    "# Q4: City with Lowest Gold Card Spend %"
   ]
  },
  {
   "cell_type": "code",
   "execution_count": 13,
   "id": "19bec529-b320-4bf9-b048-9697a600fd89",
   "metadata": {},
   "outputs": [],
   "source": [
    "city_total = df.groupby('City')['Amount'].sum()\n",
    "gold_df = df[df['Card Type'] == 'Gold']\n",
    "gold_city = gold_df.groupby('City')['Amount'].sum()\n",
    "gold_percent = (gold_city / city_total * 100).dropna().round(2)\n",
    "q4_result = gold_percent.sort_values().head(1).reset_index()\n",
    "q4_result.columns = ['City', 'Gold Spend %']"
   ]
  },
  {
   "cell_type": "code",
   "execution_count": 14,
   "id": "46a87f52-55e1-4aba-8b33-65c79767a90c",
   "metadata": {},
   "outputs": [
    {
     "data": {
      "text/html": [
       "<div>\n",
       "<style scoped>\n",
       "    .dataframe tbody tr th:only-of-type {\n",
       "        vertical-align: middle;\n",
       "    }\n",
       "\n",
       "    .dataframe tbody tr th {\n",
       "        vertical-align: top;\n",
       "    }\n",
       "\n",
       "    .dataframe thead th {\n",
       "        text-align: right;\n",
       "    }\n",
       "</style>\n",
       "<table border=\"1\" class=\"dataframe\">\n",
       "  <thead>\n",
       "    <tr style=\"text-align: right;\">\n",
       "      <th></th>\n",
       "      <th>City</th>\n",
       "      <th>Gold Spend %</th>\n",
       "    </tr>\n",
       "  </thead>\n",
       "  <tbody>\n",
       "    <tr>\n",
       "      <th>0</th>\n",
       "      <td>Dhamtari, India</td>\n",
       "      <td>0.33</td>\n",
       "    </tr>\n",
       "  </tbody>\n",
       "</table>\n",
       "</div>"
      ],
      "text/plain": [
       "              City  Gold Spend %\n",
       "0  Dhamtari, India          0.33"
      ]
     },
     "execution_count": 14,
     "metadata": {},
     "output_type": "execute_result"
    }
   ],
   "source": [
    "q4_result"
   ]
  },
  {
   "cell_type": "code",
   "execution_count": 15,
   "id": "fc8acbe5-1a7e-4214-8cdb-53b54047e9ab",
   "metadata": {},
   "outputs": [
    {
     "data": {
      "image/png": "[encoded data removed]",
      "text/plain": [
       "<Figure size 640x480 with 1 Axes>"
      ]
     },
     "metadata": {},
     "output_type": "display_data"
    }
   ],
   "source": [
    "plt.pie(q4_result['Gold Spend %'], labels=q4_result['City'], autopct='%1.1f%%', startangle=90, colors=['gold'])\n",
    "plt.title('City with Lowest % Gold Card Spend')\n",
    "plt.axis('equal')\n",
    "plt.show()"
   ]
  },
  {
   "cell_type": "markdown",
   "id": "a023e51d-ccbb-4bf9-a16c-066ae884f6c2",
   "metadata": {},
   "source": [
    "# Q5: Highest & Lowest Expense Type per City"
   ]
  },
  {
   "cell_type": "code",
   "execution_count": 16,
   "id": "d713a491-a4cd-4ecb-a4ef-8cc5abbfdc9c",
   "metadata": {},
   "outputs": [
    {
     "data": {
      "text/plain": [
       "(                City Exp Type  Amount\n",
       " 3    Achalpur, India  Grocery  788403\n",
       " 4    Adilabad, India    Bills  868039\n",
       " 9   Adityapur, India     Food  296944\n",
       " 12      Adoni, India    Bills  634273\n",
       " 20      Adoor, India     Fuel  552070,\n",
       "                 City       Exp Type  Amount\n",
       " 1    Achalpur, India  Entertainment   55347\n",
       " 6    Adilabad, India           Food   80193\n",
       " 11  Adityapur, India        Grocery  180339\n",
       " 13      Adoni, India  Entertainment  116961\n",
       " 17      Adoor, India          Bills    6536)"
      ]
     },
     "execution_count": 16,
     "metadata": {},
     "output_type": "execute_result"
    }
   ],
   "source": [
    "city_exp = df.groupby(['City', 'Exp Type'])['Amount'].sum().reset_index()\n",
    "q5_high = city_exp.sort_values(['City', 'Amount'], ascending=[True, False]).drop_duplicates('City')\n",
    "q5_low = city_exp.sort_values(['City', 'Amount'], ascending=[True, True]).drop_duplicates('City')\n",
    "q5_high.head(), q5_low.head()"
   ]
  },
  {
   "cell_type": "code",
   "execution_count": 17,
   "id": "2cd993ef-eb1f-4117-8d2e-b7073e139469",
   "metadata": {},
   "outputs": [
    {
     "data": {
      "text/html": [
       "<div>\n",
       "<style scoped>\n",
       "    .dataframe tbody tr th:only-of-type {\n",
       "        vertical-align: middle;\n",
       "    }\n",
       "\n",
       "    .dataframe tbody tr th {\n",
       "        vertical-align: top;\n",
       "    }\n",
       "\n",
       "    .dataframe thead th {\n",
       "        text-align: right;\n",
       "    }\n",
       "</style>\n",
       "<table border=\"1\" class=\"dataframe\">\n",
       "  <thead>\n",
       "    <tr style=\"text-align: right;\">\n",
       "      <th></th>\n",
       "      <th>City</th>\n",
       "      <th>Exp Type_Highest</th>\n",
       "      <th>Amount_Highest</th>\n",
       "      <th>Exp Type_Lowest</th>\n",
       "      <th>Amount_Lowest</th>\n",
       "    </tr>\n",
       "  </thead>\n",
       "  <tbody>\n",
       "    <tr>\n",
       "      <th>0</th>\n",
       "      <td>Achalpur, India</td>\n",
       "      <td>Grocery</td>\n",
       "      <td>788403</td>\n",
       "      <td>Entertainment</td>\n",
       "      <td>55347</td>\n",
       "    </tr>\n",
       "    <tr>\n",
       "      <th>1</th>\n",
       "      <td>Adilabad, India</td>\n",
       "      <td>Bills</td>\n",
       "      <td>868039</td>\n",
       "      <td>Food</td>\n",
       "      <td>80193</td>\n",
       "    </tr>\n",
       "    <tr>\n",
       "      <th>2</th>\n",
       "      <td>Adityapur, India</td>\n",
       "      <td>Food</td>\n",
       "      <td>296944</td>\n",
       "      <td>Grocery</td>\n",
       "      <td>180339</td>\n",
       "    </tr>\n",
       "    <tr>\n",
       "      <th>3</th>\n",
       "      <td>Adoni, India</td>\n",
       "      <td>Bills</td>\n",
       "      <td>634273</td>\n",
       "      <td>Entertainment</td>\n",
       "      <td>116961</td>\n",
       "    </tr>\n",
       "    <tr>\n",
       "      <th>4</th>\n",
       "      <td>Adoor, India</td>\n",
       "      <td>Fuel</td>\n",
       "      <td>552070</td>\n",
       "      <td>Bills</td>\n",
       "      <td>6536</td>\n",
       "    </tr>\n",
       "  </tbody>\n",
       "</table>\n",
       "</div>"
      ],
      "text/plain": [
       "               City Exp Type_Highest  Amount_Highest Exp Type_Lowest  \\\n",
       "0   Achalpur, India          Grocery          788403   Entertainment   \n",
       "1   Adilabad, India            Bills          868039            Food   \n",
       "2  Adityapur, India             Food          296944         Grocery   \n",
       "3      Adoni, India            Bills          634273   Entertainment   \n",
       "4      Adoor, India             Fuel          552070           Bills   \n",
       "\n",
       "   Amount_Lowest  \n",
       "0          55347  \n",
       "1          80193  \n",
       "2         180339  \n",
       "3         116961  \n",
       "4           6536  "
      ]
     },
     "execution_count": 17,
     "metadata": {},
     "output_type": "execute_result"
    }
   ],
   "source": [
    "q5_combined = q5_high.merge(q5_low, on='City', suffixes=('_Highest', '_Lowest'))\n",
    "q5_combined.head()"
   ]
  },
  {
   "cell_type": "markdown",
   "id": "ee58938c-453d-4888-b647-83020ae12d0a",
   "metadata": {},
   "source": [
    "# Q6: % of Spend by Females for Each Expense Type"
   ]
  },
  {
   "cell_type": "code",
   "execution_count": 18,
   "id": "abb2491c-91a0-4efe-8d62-ba51f7b9dd9c",
   "metadata": {},
   "outputs": [],
   "source": [
    "total_by_exp = df.groupby('Exp Type')['Amount'].sum()\n",
    "female_by_exp = df[df['Gender'] == 'F'].groupby('Exp Type')['Amount'].sum()\n",
    "female_percent = (female_by_exp / total_by_exp * 100).dropna().round(2)\n",
    "q6_result = female_percent.reset_index()\n",
    "q6_result.columns = ['Expense Type', 'Female Spend %']"
   ]
  },
  {
   "cell_type": "code",
   "execution_count": 19,
   "id": "ae3f5c59-692c-422b-ad50-0d587e4f5405",
   "metadata": {},
   "outputs": [
    {
     "data": {
      "text/html": [
       "<div>\n",
       "<style scoped>\n",
       "    .dataframe tbody tr th:only-of-type {\n",
       "        vertical-align: middle;\n",
       "    }\n",
       "\n",
       "    .dataframe tbody tr th {\n",
       "        vertical-align: top;\n",
       "    }\n",
       "\n",
       "    .dataframe thead th {\n",
       "        text-align: right;\n",
       "    }\n",
       "</style>\n",
       "<table border=\"1\" class=\"dataframe\">\n",
       "  <thead>\n",
       "    <tr style=\"text-align: right;\">\n",
       "      <th></th>\n",
       "      <th>Expense Type</th>\n",
       "      <th>Female Spend %</th>\n",
       "    </tr>\n",
       "  </thead>\n",
       "  <tbody>\n",
       "    <tr>\n",
       "      <th>0</th>\n",
       "      <td>Bills</td>\n",
       "      <td>63.95</td>\n",
       "    </tr>\n",
       "    <tr>\n",
       "      <th>1</th>\n",
       "      <td>Entertainment</td>\n",
       "      <td>49.37</td>\n",
       "    </tr>\n",
       "    <tr>\n",
       "      <th>2</th>\n",
       "      <td>Food</td>\n",
       "      <td>54.91</td>\n",
       "    </tr>\n",
       "    <tr>\n",
       "      <th>3</th>\n",
       "      <td>Fuel</td>\n",
       "      <td>49.71</td>\n",
       "    </tr>\n",
       "    <tr>\n",
       "      <th>4</th>\n",
       "      <td>Grocery</td>\n",
       "      <td>50.91</td>\n",
       "    </tr>\n",
       "    <tr>\n",
       "      <th>5</th>\n",
       "      <td>Travel</td>\n",
       "      <td>51.13</td>\n",
       "    </tr>\n",
       "  </tbody>\n",
       "</table>\n",
       "</div>"
      ],
      "text/plain": [
       "    Expense Type  Female Spend %\n",
       "0          Bills           63.95\n",
       "1  Entertainment           49.37\n",
       "2           Food           54.91\n",
       "3           Fuel           49.71\n",
       "4        Grocery           50.91\n",
       "5         Travel           51.13"
      ]
     },
     "execution_count": 19,
     "metadata": {},
     "output_type": "execute_result"
    }
   ],
   "source": [
    "q6_result"
   ]
  },
  {
   "cell_type": "code",
   "execution_count": 20,
   "id": "63b849ad-783b-4d03-8ca3-a6304f01641e",
   "metadata": {},
   "outputs": [
    {
     "name": "stderr",
     "output_type": "stream",
     "text": [
      "C:\\Users\\srj15\\AppData\\Local\\Temp\\ipykernel_10508\\2371964107.py:2: FutureWarning: \n",
      "\n",
      "Passing `palette` without assigning `hue` is deprecated and will be removed in v0.14.0. Assign the `y` variable to `hue` and set `legend=False` for the same effect.\n",
      "\n",
      "  sns.barplot(x='Female Spend %', y='Expense Type', data=q6_result.sort_values('Female Spend %', ascending=False), palette='coolwarm')\n"
     ]
    },
    {
     "data": {
      "image/png": "[encoded data removed]",
      "text/plain": [
       "<Figure size 1000x600 with 1 Axes>"
      ]
     },
     "metadata": {},
     "output_type": "display_data"
    }
   ],
   "source": [
    "plt.figure(figsize=(10,6))\n",
    "sns.barplot(x='Female Spend %', y='Expense Type', data=q6_result.sort_values('Female Spend %', ascending=False), palette='coolwarm')\n",
    "plt.title('% Spend by Females per Expense Type')\n",
    "plt.tight_layout()\n",
    "plt.show()"
   ]
  },
  {
   "cell_type": "markdown",
   "id": "78c6b7e7-5b79-4a28-bfab-cd38f726c00c",
   "metadata": {},
   "source": [
    "# Q7: Card + Expense Combo with Highest MoM Growth in Jan 2014"
   ]
  },
  {
   "cell_type": "code",
   "execution_count": 21,
   "id": "b673a91c-944b-4344-858b-9d4f152a0a7b",
   "metadata": {},
   "outputs": [],
   "source": [
    "df['YearMonth'] = df['Date'].dt.to_period('M').astype(str)\n",
    "combo_spend = df.groupby(['Card Type', 'Exp Type', 'YearMonth'])['Amount'].sum().reset_index()\n",
    "pivot = combo_spend.pivot_table(index=['Card Type', 'Exp Type'], columns='YearMonth', values='Amount', fill_value=0)\n",
    "pivot['Growth'] = pivot.get('2014-01', 0) - pivot.get('2013-12', 0)"
   ]
  },
  {
   "cell_type": "code",
   "execution_count": 22,
   "id": "6621779b-2e2a-4906-9c93-a4fefb2a3bf8",
   "metadata": {},
   "outputs": [
    {
     "data": {
      "text/plain": [
       "Card Type  Exp Type\n",
       "Platinum   Grocery     4498781.0\n",
       "Name: Growth, dtype: float64"
      ]
     },
     "execution_count": 22,
     "metadata": {},
     "output_type": "execute_result"
    }
   ],
   "source": [
    "q7_result = pivot['Growth'].sort_values(ascending=False).head(1)\n",
    "q7_result"
   ]
  },
  {
   "cell_type": "markdown",
   "id": "f15d105b-6b9f-46b3-8af0-4cc268d953c0",
   "metadata": {},
   "source": [
    "# Q8: City with Highest Weekend Spend-to-Transaction Ratio"
   ]
  },
  {
   "cell_type": "code",
   "execution_count": 23,
   "id": "5c309a95-8a21-4d2a-92ac-bd65fe584c20",
   "metadata": {},
   "outputs": [],
   "source": [
    "weekend_df = df[df['Weekday'].isin([5, 6])]\n",
    "weekend_summary = weekend_df.groupby('City').agg({\n",
    "    'Amount': 'sum',\n",
    "    'Date': 'count'\n",
    "}).rename(columns={'Date': 'Transaction Count'})\n",
    "weekend_summary['Spend-to-Txn Ratio'] = (weekend_summary['Amount'] / weekend_summary['Transaction Count']).round(2)\n",
    "q8_result = weekend_summary.sort_values('Spend-to-Txn Ratio', ascending=False).head(1)"
   ]
  },
  {
   "cell_type": "code",
   "execution_count": 24,
   "id": "92fa6ce5-a3be-45ea-891f-f3e2ac93cbf7",
   "metadata": {},
   "outputs": [
    {
     "data": {
      "text/html": [
       "<div>\n",
       "<style scoped>\n",
       "    .dataframe tbody tr th:only-of-type {\n",
       "        vertical-align: middle;\n",
       "    }\n",
       "\n",
       "    .dataframe tbody tr th {\n",
       "        vertical-align: top;\n",
       "    }\n",
       "\n",
       "    .dataframe thead th {\n",
       "        text-align: right;\n",
       "    }\n",
       "</style>\n",
       "<table border=\"1\" class=\"dataframe\">\n",
       "  <thead>\n",
       "    <tr style=\"text-align: right;\">\n",
       "      <th></th>\n",
       "      <th>Amount</th>\n",
       "      <th>Transaction Count</th>\n",
       "      <th>Spend-to-Txn Ratio</th>\n",
       "    </tr>\n",
       "    <tr>\n",
       "      <th>City</th>\n",
       "      <th></th>\n",
       "      <th></th>\n",
       "      <th></th>\n",
       "    </tr>\n",
       "  </thead>\n",
       "  <tbody>\n",
       "    <tr>\n",
       "      <th>Sonepur, India</th>\n",
       "      <td>299905</td>\n",
       "      <td>1</td>\n",
       "      <td>299905.0</td>\n",
       "    </tr>\n",
       "  </tbody>\n",
       "</table>\n",
       "</div>"
      ],
      "text/plain": [
       "                Amount  Transaction Count  Spend-to-Txn Ratio\n",
       "City                                                         \n",
       "Sonepur, India  299905                  1            299905.0"
      ]
     },
     "execution_count": 24,
     "metadata": {},
     "output_type": "execute_result"
    }
   ],
   "source": [
    "q8_result"
   ]
  },
  {
   "cell_type": "code",
   "execution_count": 25,
   "id": "811972e2-af1e-412b-b2ad-f91f1f3f099d",
   "metadata": {},
   "outputs": [
    {
     "name": "stderr",
     "output_type": "stream",
     "text": [
      "C:\\Users\\srj15\\AppData\\Local\\Temp\\ipykernel_10508\\649277077.py:3: FutureWarning: \n",
      "\n",
      "Passing `palette` without assigning `hue` is deprecated and will be removed in v0.14.0. Assign the `x` variable to `hue` and set `legend=False` for the same effect.\n",
      "\n",
      "  sns.barplot(x='City', y='Spend-to-Txn Ratio', data=top5_weekend, palette='crest')\n"
     ]
    },
    {
     "data": {
      "image/png": "[encoded data removed]",
      "text/plain": [
       "<Figure size 1000x600 with 1 Axes>"
      ]
     },
     "metadata": {},
     "output_type": "display_data"
    }
   ],
   "source": [
    "top5_weekend = weekend_summary.sort_values('Spend-to-Txn Ratio', ascending=False).head(5).reset_index()\n",
    "plt.figure(figsize=(10,6))\n",
    "sns.barplot(x='City', y='Spend-to-Txn Ratio', data=top5_weekend, palette='crest')\n",
    "plt.title('Top 5 Cities by Weekend Spend-to-Txn Ratio')\n",
    "plt.xticks(rotation=45)\n",
    "plt.tight_layout()\n",
    "plt.show()"
   ]
  },
  {
   "cell_type": "markdown",
   "id": "81d97ea7-b971-43b2-9cc4-c87e975ab53d",
   "metadata": {},
   "source": [
    "# Q9: City That Reached 500th Transaction the Fastest"
   ]
  },
  {
   "cell_type": "code",
   "execution_count": 26,
   "id": "dea315a1-7a70-4cf8-b84d-9423c4c9418e",
   "metadata": {},
   "outputs": [],
   "source": [
    "df_sorted = df.sort_values('Date')\n",
    "city_500_dates = []\n",
    "for city, group in df_sorted.groupby('City'):\n",
    "    if len(group) >= 500:\n",
    "        first_500 = group.iloc[:500]\n",
    "        days_taken = (first_500['Date'].max() - first_500['Date'].min()).days\n",
    "        city_500_dates.append((city, days_taken))\n",
    "\n",
    "q9_result = pd.DataFrame(city_500_dates, columns=['City', 'Days Taken']).sort_values('Days Taken').head(1)"
   ]
  },
  {
   "cell_type": "code",
   "execution_count": 27,
   "id": "7ab22579-35aa-4c45-9095-b4b32c4303ba",
   "metadata": {},
   "outputs": [
    {
     "data": {
      "text/html": [
       "<div>\n",
       "<style scoped>\n",
       "    .dataframe tbody tr th:only-of-type {\n",
       "        vertical-align: middle;\n",
       "    }\n",
       "\n",
       "    .dataframe tbody tr th {\n",
       "        vertical-align: top;\n",
       "    }\n",
       "\n",
       "    .dataframe thead th {\n",
       "        text-align: right;\n",
       "    }\n",
       "</style>\n",
       "<table border=\"1\" class=\"dataframe\">\n",
       "  <thead>\n",
       "    <tr style=\"text-align: right;\">\n",
       "      <th></th>\n",
       "      <th>City</th>\n",
       "      <th>Days Taken</th>\n",
       "    </tr>\n",
       "  </thead>\n",
       "  <tbody>\n",
       "    <tr>\n",
       "      <th>1</th>\n",
       "      <td>Bengaluru, India</td>\n",
       "      <td>81</td>\n",
       "    </tr>\n",
       "  </tbody>\n",
       "</table>\n",
       "</div>"
      ],
      "text/plain": [
       "               City  Days Taken\n",
       "1  Bengaluru, India          81"
      ]
     },
     "execution_count": 27,
     "metadata": {},
     "output_type": "execute_result"
    }
   ],
   "source": [
    "q9_result"
   ]
  }
 ],
 "metadata": {
  "kernelspec": {
   "display_name": "Python 3 (ipykernel)",
   "language": "python",
   "name": "python3"
  },
  "language_info": {
   "codemirror_mode": {
    "name": "ipython",
    "version": 3
   },
   "file_extension": ".py",
   "mimetype": "text/x-python",
   "name": "python",
   "nbconvert_exporter": "python",
   "pygments_lexer": "ipython3",
   "version": "3.12.7"
  }
 },
 "nbformat": 4,
 "nbformat_minor": 5
}
